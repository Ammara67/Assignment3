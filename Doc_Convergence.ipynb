{
  "nbformat": 4,
  "nbformat_minor": 0,
  "metadata": {
    "colab": {
      "name": "Untitled1.ipynb",
      "provenance": [],
      "collapsed_sections": [],
      "authorship_tag": "ABX9TyO6mY/+3g775Cqa593KDsWN",
      "include_colab_link": true
    },
    "kernelspec": {
      "name": "python3",
      "display_name": "Python 3"
    },
    "language_info": {
      "name": "python"
    }
  },
  "cells": [
    {
      "cell_type": "markdown",
      "metadata": {
        "id": "view-in-github",
        "colab_type": "text"
      },
      "source": [
        "<a href=\"https://colab.research.google.com/github/Ammara67/Assignment3/blob/master/Doc_Convergence.ipynb\" target=\"_parent\"><img src=\"https://colab.research.google.com/assets/colab-badge.svg\" alt=\"Open In Colab\"/></a>"
      ]
    },
    {
      "cell_type": "code",
      "execution_count": 72,
      "metadata": {
        "id": "O_GUM2pZF4mF"
      },
      "outputs": [],
      "source": [
        "from docx import Document\n",
        "from docx.shared import Inches\n",
        "\n",
        "document = Document()\n",
        "\n",
        "document.add_heading('COVIDECT', 0)\n",
        "p = document.add_paragraph('')\n",
        "p.add_run('Patient Information').bold = True\n",
        "records = (\n",
        "    ('Patient Name :', '10'),\n",
        "    ('Age :', 'Eggs'),\n",
        "    ('Gender :','N/a'),\n",
        "     ('Marital Status :',\"n/a\")\n",
        ")\n",
        "table = document.add_table(rows=1, cols=2)\n",
        "\n",
        "for qty, id  in records:\n",
        "    row_cells = table.add_row().cells\n",
        "    row_cells[0].text = str(qty)\n",
        "    row_cells[1].text = str(id)\n",
        "\n",
        "Q = document.add_paragraph('')\n",
        "Q.add_run('COVID DETECTION REMARKS').bold = True\n",
        "\n",
        "document.add_picture('/content/WhatsApp Image 2022-05-20 at 10.23.06 AM.png', width=Inches(1.25))\n",
        "\n",
        "\n",
        "document.save('co1.docx')"
      ]
    },
    {
      "cell_type": "markdown",
      "source": [
        "p = document.add_paragraph('A plain paragraph having some ')\n",
        "p.add_run('bold').bold = True  \n",
        "p.add_run(' and some ')\n",
        "p.add_run('italic.').italic = True"
      ],
      "metadata": {
        "id": "my4rg6jZk0Rw"
      }
    },
    {
      "cell_type": "code",
      "source": [
        "import aspose.words as aw\n",
        "\n",
        "# Load word document\n",
        "doc = aw.Document(\"demo.docx\")\n",
        "\n",
        "# Save as PDF\n",
        "doc.save(\"PDF.pdf\")"
      ],
      "metadata": {
        "colab": {
          "base_uri": "https://localhost:8080/"
        },
        "id": "Q8GG-zBnNBrm",
        "outputId": "ec1e79a4-ceed-42d2-97e0-8df0562e4ca0"
      },
      "execution_count": null,
      "outputs": [
        {
          "output_type": "execute_result",
          "data": {
            "text/plain": [
              "<aspose.words.saving.SaveOutputParameters object at 0x7fc1735a3370>"
            ]
          },
          "metadata": {},
          "execution_count": 17
        }
      ]
    }
  ]
}